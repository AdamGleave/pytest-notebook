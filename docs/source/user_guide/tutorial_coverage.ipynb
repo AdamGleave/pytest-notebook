{
 "cells": [
  {
   "cell_type": "markdown",
   "metadata": {},
   "source": [
    ".. _tutorial_coverage:\n",
    "\n",
    "# Execution and Coverage Reporting"
   ]
  },
  {
   "cell_type": "markdown",
   "metadata": {},
   "source": [
    "The core component of the notebook execution API is the :py:class:`~pytest_notebook.execution.ExecuteCoveragePreprocessor` class,\n",
    "which is a subclass of :py:class:`nbconvert.preprocessors.ExecutePreprocessor`,\n",
    "that can additionally create code [coverage](https://coverage.readthedocs.io) analytics.\n",
    "\n",
    "This class is called by :py:func:`~pytest_notebook.execution.execute_notebook`,\n",
    "which returns an :py:class:`~pytest_notebook.execution.ExecuteResult` object."
   ]
  },
  {
   "cell_type": "code",
   "execution_count": 1,
   "metadata": {},
   "outputs": [],
   "source": [
    "import ruamel.yaml as yaml\n",
    "from pytest_notebook.execution import execute_notebook\n",
    "from pytest_notebook.notebook import create_notebook, create_cell, dump_notebook"
   ]
  },
  {
   "cell_type": "code",
   "execution_count": 2,
   "metadata": {},
   "outputs": [],
   "source": [
    "notebook = create_notebook()\n",
    "notebook.cells = [\n",
    "    create_cell(\"\"\"\n",
    "from pytest_notebook import __version__\n",
    "from pytest_notebook.notebook import create_notebook\n",
    "print(__version__)\n",
    "\"\"\"\n",
    "    )\n",
    "]"
   ]
  },
  {
   "cell_type": "code",
   "execution_count": 3,
   "metadata": {},
   "outputs": [
    {
     "data": {
      "text/plain": [
       "{'nbformat': 4,\n",
       " 'nbformat_minor': 2,\n",
       " 'metadata': {'language_info': {'name': 'python',\n",
       "   'version': '3.6.7',\n",
       "   'mimetype': 'text/x-python',\n",
       "   'codemirror_mode': {'name': 'ipython', 'version': 3},\n",
       "   'pygments_lexer': 'ipython3',\n",
       "   'nbconvert_exporter': 'python',\n",
       "   'file_extension': '.py'}},\n",
       " 'cells': [{'cell_type': 'code',\n",
       "   'metadata': {},\n",
       "   'execution_count': 1,\n",
       "   'source': '\\nfrom pytest_notebook import __version__\\nfrom pytest_notebook.notebook import create_notebook\\nprint(__version__)\\n',\n",
       "   'outputs': [{'output_type': 'stream',\n",
       "     'name': 'stdout',\n",
       "     'text': '0.6.0\\n'}]}]}"
      ]
     },
     "execution_count": 3,
     "metadata": {},
     "output_type": "execute_result"
    }
   ],
   "source": [
    "result = execute_notebook(notebook, with_coverage=True)\n",
    "result.notebook"
   ]
  },
  {
   "cell_type": "code",
   "execution_count": 26,
   "metadata": {},
   "outputs": [
    {
     "data": {
      "text/plain": [
       "<CoverageData lines={5} arcs=None tracers={0} runs=[0]>"
      ]
     },
     "execution_count": 26,
     "metadata": {},
     "output_type": "execute_result"
    }
   ],
   "source": [
    "result.coverage_data()"
   ]
  },
  {
   "cell_type": "code",
   "execution_count": 4,
   "metadata": {},
   "outputs": [
    {
     "name": "stdout",
     "output_type": "stream",
     "text": [
      "lines:\n",
      "  /Users/cjs14/GitHub/pytest-notebook/pytest_notebook/__init__.py: [4, 5]\n",
      "  /Users/cjs14/GitHub/pytest-notebook/pytest_notebook/diffing.py: [1, 2, 3, 4, 5,\n",
      "    7, 8, 9, 10, 11, 12, 24, 25, 66, 67, 98, 101, 116, 117, 162, 163]\n",
      "  /Users/cjs14/GitHub/pytest-notebook/pytest_notebook/notebook.py: [1, 2, 3, 4, 5,\n",
      "    6, 8, 9, 10, 11, 12, 13, 15, 16, 17, 19, 21, 25, 26, 49, 50, 80, 81, 108, 109,\n",
      "    112, 142, 151, 173, 174, 176, 178, 179, 180, 181, 184, 191, 192, 195, 202, 203,\n",
      "    204, 205, 207, 208, 209, 210, 214, 245, 246, 252, 253, 260, 267, 275, 291, 292,\n",
      "    293, 295, 308]\n",
      "  /Users/cjs14/GitHub/pytest-notebook/pytest_notebook/resources/__init__.py: [1]\n",
      "  /Users/cjs14/GitHub/pytest-notebook/pytest_notebook/utils.py: [1, 2, 4, 5, 6, 9,\n",
      "    29, 52, 86, 99, 136, 138, 142, 144, 100, 102, 106, 108, 112, 32, 35, 40, 41, 44,\n",
      "    45, 49, 114, 115, 116, 120, 122, 123, 124, 125, 126, 128, 134, 149, 151, 87, 89,\n",
      "    97, 156]\n",
      "\n"
     ]
    }
   ],
   "source": [
    "print(yaml.dump(result.coverage_dict))"
   ]
  },
  {
   "cell_type": "markdown",
   "metadata": {},
   "source": [
    "The coverage can be limited to particular files or modules, by setting `cov_source`."
   ]
  },
  {
   "cell_type": "code",
   "execution_count": 28,
   "metadata": {},
   "outputs": [
    {
     "name": "stdout",
     "output_type": "stream",
     "text": [
      "lines:\n",
      "  /Users/cjs14/GitHub/pytest-notebook/pytest_notebook/notebook.py: [1, 2, 3, 4, 5,\n",
      "    6, 8, 9, 10, 11, 12, 13, 15, 16, 17, 19, 21, 25, 26, 49, 50, 80, 81, 108, 109,\n",
      "    112, 142, 151, 173, 174, 176, 178, 179, 180, 181, 184, 191, 192, 195, 202, 203,\n",
      "    204, 205, 207, 208, 209, 210, 214, 245, 246, 252, 253, 260, 267, 275, 291, 292,\n",
      "    293, 295, 308]\n",
      "\n"
     ]
    }
   ],
   "source": [
    "result = execute_notebook(\n",
    "    notebook, with_coverage=True, cov_source=['pytest_notebook.notebook'])\n",
    "print(yaml.dump(result.coverage_dict))"
   ]
  },
  {
   "cell_type": "markdown",
   "metadata": {},
   "source": [
    "## Integration with pytest-cov"
   ]
  },
  {
   "cell_type": "markdown",
   "metadata": {},
   "source": [
    "If the [pytest-cov](https://pytest-cov.readthedocs.io) plugin is installed,\n",
    "the :py:class:`~pytest_notebook.nb_regression.NBRegressionFixture` will be initialised\n",
    "with the settings and :py:class:`coverage.Coverage` object, that\n",
    "`pytest-cov` has created.\n",
    "\n",
    "If the `--nb-coverage` flag is set, then `nb_regression` will run coverage introspection,\n",
    "and merge the data back into the main :py:class:`~coverage.Coverage` object."
   ]
  },
  {
   "cell_type": "code",
   "execution_count": 27,
   "metadata": {},
   "outputs": [],
   "source": [
    "%load_ext pytest_notebook.ipy_magic"
   ]
  },
  {
   "cell_type": "code",
   "execution_count": 43,
   "metadata": {},
   "outputs": [
    {
     "name": "stdout",
     "output_type": "stream",
     "text": [
      "\u001b[1m============================= test session starts ==============================\u001b[0m\n",
      "platform darwin -- Python 3.6.7, pytest-5.0.1, py-1.8.0, pluggy-0.12.0\n",
      "rootdir: /private/var/folders/dm/b2qnkb_n3r72slmpxlfmcjvm00lbnd/T/tmpxcs1xsgm\n",
      "plugins: cov-2.7.1, datadir-1.3.0, regressions-1.0.5, notebook-0.5.1\n",
      "collected 1 item\n",
      "\n",
      "test_ipycell.py::test_notebook \n",
      "\u001b[1m-------------------------------- live log call ---------------------------------\u001b[0m\n",
      "\u001b[32mINFO    \u001b[0m test_ipycell:test_ipycell.py:7 NBRegressionFixture(exec_notebook=True, exec_cwd=None, exec_allow_errors=False, exec_timeout=120, coverage=True, cov_config='.coveragerc', cov_source=('pytest_notebook',), cov_merge=<coverage.control.Coverage object at 0x103ec3e48>, post_processors=('coalesce_streams',), process_resources={}, diff_replace=(), diff_ignore=('/cells/*/outputs/*/traceback',), diff_use_color=True, diff_color_words=False, force_regen=False)\n",
      "\u001b[32mINFO    \u001b[0m pytest_notebook.execution:execution.py:147 About to execute notebook with 1 cells\n",
      "\u001b[32mINFO    \u001b[0m pytest_notebook.execution:execution.py:153 Executing notebook with kernel: python\n",
      "\u001b[32mINFO    \u001b[0m pytest_notebook.execution:execution.py:155 Recording coverage for notebook\n",
      "\u001b[32mINFO    \u001b[0m pytest_notebook.execution:execution.py:173 Executing cell 0\n",
      "\u001b[32mINFO    \u001b[0m pytest_notebook.nb_regression:nb_regression.py:306 Merging coverage.\n",
      "\u001b[32mPASSED\u001b[0m\u001b[36m                                                                   [100%]\u001b[0m\n",
      "\n",
      "---------- coverage: platform darwin, python 3.6.7-final-0 -----------\n",
      "Name                                                                          Stmts   Miss  Cover\n",
      "-------------------------------------------------------------------------------------------------\n",
      "/Users/cjs14/GitHub/pytest-notebook/pytest_notebook/__init__.py                   1      0   100%\n",
      "/Users/cjs14/GitHub/pytest-notebook/pytest_notebook/diffing.py                   83     40    52%\n",
      "/Users/cjs14/GitHub/pytest-notebook/pytest_notebook/example_nbs/__init__.py       0      0   100%\n",
      "/Users/cjs14/GitHub/pytest-notebook/pytest_notebook/execution.py                103     61    41%\n",
      "/Users/cjs14/GitHub/pytest-notebook/pytest_notebook/ipy_magic.py                 80     80     0%\n",
      "/Users/cjs14/GitHub/pytest-notebook/pytest_notebook/nb_regression.py            184    112    39%\n",
      "/Users/cjs14/GitHub/pytest-notebook/pytest_notebook/notebook.py                 140     74    47%\n",
      "/Users/cjs14/GitHub/pytest-notebook/pytest_notebook/plugin.py                   117     81    31%\n",
      "/Users/cjs14/GitHub/pytest-notebook/pytest_notebook/post_processors.py           93     69    26%\n",
      "/Users/cjs14/GitHub/pytest-notebook/pytest_notebook/resources/__init__.py         0      0   100%\n",
      "/Users/cjs14/GitHub/pytest-notebook/pytest_notebook/utils.py                     58     23    60%\n",
      "-------------------------------------------------------------------------------------------------\n",
      "TOTAL                                                                           859    540    37%\n",
      "\n",
      "\n",
      "\u001b[33m\u001b[1m===================== 1 passed, 1 warnings in 3.73 seconds =====================\u001b[0m\n",
      "Coverage.py warning: Module pytest_notebook was previously imported, but not measured (module-not-measured)\n"
     ]
    }
   ],
   "source": [
    "%%pytest --disable-warnings --color=yes --cov=pytest_notebook --nb-coverage --log-cli-level=info\n",
    "\n",
    "import logging\n",
    "import importlib_resources\n",
    "from pytest_notebook import example_nbs\n",
    "\n",
    "def test_notebook(nb_regression):\n",
    "    logging.getLogger(__name__).info(nb_regression)\n",
    "    with importlib_resources.path(example_nbs, \"coverage.ipynb\") as path:\n",
    "        nb_regression.check(str(path))"
   ]
  },
  {
   "cell_type": "markdown",
   "metadata": {},
   "source": [
    "This is also the case, when using the pytest file collection approach."
   ]
  },
  {
   "cell_type": "code",
   "execution_count": 47,
   "metadata": {},
   "outputs": [
    {
     "name": "stdout",
     "output_type": "stream",
     "text": [
      "\u001b[1m============================= test session starts ==============================\u001b[0m\n",
      "platform darwin -- Python 3.6.7, pytest-5.0.1, py-1.8.0, pluggy-0.12.0\n",
      "rootdir: /private/var/folders/dm/b2qnkb_n3r72slmpxlfmcjvm00lbnd/T/tmpzc571yr2, inifile: pytest.ini\n",
      "plugins: cov-2.7.1, datadir-1.3.0, regressions-1.0.5, notebook-0.5.1\n",
      "collected 1 item\n",
      "\n",
      "test_notebook1.ipynb::nbregression(test_notebook1) \n",
      "\u001b[1m-------------------------------- live log call ---------------------------------\u001b[0m\n",
      "\u001b[32mINFO    \u001b[0m pytest_notebook.execution:execution.py:147 About to execute notebook with 1 cells\n",
      "\u001b[32mINFO    \u001b[0m pytest_notebook.execution:execution.py:153 Executing notebook with kernel: python\n",
      "\u001b[32mINFO    \u001b[0m pytest_notebook.execution:execution.py:155 Recording coverage for notebook\n",
      "\u001b[32mINFO    \u001b[0m pytest_notebook.execution:execution.py:173 Executing cell 0\n",
      "\u001b[32mINFO    \u001b[0m pytest_notebook.nb_regression:nb_regression.py:306 Merging coverage.\n",
      "\u001b[31mFAILED\u001b[0m\u001b[36m                                                                   [100%]\u001b[0m\n",
      "\n",
      "=================================== FAILURES ===================================\n",
      "\u001b[31m\u001b[1m____________________ notebook: nbregression(test_notebook1) ____________________\u001b[0m\n",
      "pytest_notebook.nb_regression.NBRegressionError: \n",
      "--- expected\n",
      "+++ obtained\n",
      "\u001b[34m## replaced (type changed from NoneType to int) /cells/0/execution_count:\u001b[0m\n",
      "\u001b[31m-  None\n",
      "\u001b[32m+  1\n",
      "\n",
      "\u001b[0m\u001b[34m## inserted before /cells/0/outputs/0:\u001b[0m\n",
      "\u001b[32m+  output:\n",
      "\u001b[32m+    output_type: stream\n",
      "\u001b[32m+    name: stdout\n",
      "\u001b[32m+    text:\n",
      "\u001b[32m+      0.6.0\n",
      "\n",
      "\u001b[0m\u001b[34m## added /metadata/language_info:\u001b[0m\n",
      "\u001b[32m+  codemirror_mode:\n",
      "\u001b[32m+    name: ipython\n",
      "\u001b[32m+    version: 3\n",
      "\u001b[32m+  file_extension: .py\n",
      "\u001b[32m+  mimetype: text/x-python\n",
      "\u001b[32m+  name: python\n",
      "\u001b[32m+  nbconvert_exporter: python\n",
      "\u001b[32m+  pygments_lexer: ipython3\n",
      "\u001b[32m+  version: 3.6.7\n",
      "\n",
      "\u001b[0m\n",
      "------------------------------ Captured log call -------------------------------\n",
      "\u001b[32mINFO    \u001b[0m pytest_notebook.execution:execution.py:147 About to execute notebook with 1 cells\n",
      "\u001b[32mINFO    \u001b[0m pytest_notebook.execution:execution.py:153 Executing notebook with kernel: python\n",
      "\u001b[32mINFO    \u001b[0m pytest_notebook.execution:execution.py:155 Recording coverage for notebook\n",
      "\u001b[32mINFO    \u001b[0m pytest_notebook.execution:execution.py:173 Executing cell 0\n",
      "\u001b[32mINFO    \u001b[0m pytest_notebook.nb_regression:nb_regression.py:306 Merging coverage.\n",
      "\n",
      "---------- coverage: platform darwin, python 3.6.7-final-0 -----------\n",
      "Name                                                                          Stmts   Miss  Cover\n",
      "-------------------------------------------------------------------------------------------------\n",
      "/Users/cjs14/GitHub/pytest-notebook/pytest_notebook/__init__.py                   1      0   100%\n",
      "/Users/cjs14/GitHub/pytest-notebook/pytest_notebook/diffing.py                   83     11    87%\n",
      "/Users/cjs14/GitHub/pytest-notebook/pytest_notebook/example_nbs/__init__.py       0      0   100%\n",
      "/Users/cjs14/GitHub/pytest-notebook/pytest_notebook/execution.py                103     61    41%\n",
      "/Users/cjs14/GitHub/pytest-notebook/pytest_notebook/ipy_magic.py                 80     80     0%\n",
      "/Users/cjs14/GitHub/pytest-notebook/pytest_notebook/nb_regression.py            184    112    39%\n",
      "/Users/cjs14/GitHub/pytest-notebook/pytest_notebook/notebook.py                 140     74    47%\n",
      "/Users/cjs14/GitHub/pytest-notebook/pytest_notebook/plugin.py                   117     70    40%\n",
      "/Users/cjs14/GitHub/pytest-notebook/pytest_notebook/post_processors.py           93     69    26%\n",
      "/Users/cjs14/GitHub/pytest-notebook/pytest_notebook/resources/__init__.py         0      0   100%\n",
      "/Users/cjs14/GitHub/pytest-notebook/pytest_notebook/utils.py                     58     23    60%\n",
      "-------------------------------------------------------------------------------------------------\n",
      "TOTAL                                                                           859    500    42%\n",
      "\n",
      "\u001b[31m\u001b[1m===================== 1 failed, 1 warnings in 3.49 seconds =====================\u001b[0m\n",
      "Coverage.py warning: Module pytest_notebook was previously imported, but not measured (module-not-measured)\n"
     ]
    }
   ],
   "source": [
    "%%pytest --disable-warnings --color=yes --cov=pytest_notebook --log-cli-level=info\n",
    "\n",
    "---\n",
    "[pytest]\n",
    "nb_coverage = True\n",
    "nb_test_files = True\n",
    "---\n",
    "\n",
    "***\n",
    "(dump_notebook(notebook), \"test_notebook1.ipynb\")\n",
    "***"
   ]
  }
 ],
 "metadata": {
  "kernelspec": {
   "display_name": "Python 3",
   "language": "python",
   "name": "python3"
  },
  "language_info": {
   "codemirror_mode": {
    "name": "ipython",
    "version": 3
   },
   "file_extension": ".py",
   "mimetype": "text/x-python",
   "name": "python",
   "nbconvert_exporter": "python",
   "pygments_lexer": "ipython3",
   "version": "3.6.7"
  }
 },
 "nbformat": 4,
 "nbformat_minor": 2
}
